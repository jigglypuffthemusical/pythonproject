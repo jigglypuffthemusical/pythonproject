{
 "cells": [
  {
   "cell_type": "code",
   "execution_count": 1,
   "metadata": {},
   "outputs": [],
   "source": [
    "import os \n",
    "os.getcwd()\n",
    "os.chdir(\"C:\\\\Users\\\\Laptop\\\\Desktop\\\\python project\")"
   ]
  },
  {
   "cell_type": "code",
   "execution_count": 2,
   "metadata": {},
   "outputs": [],
   "source": [
    "import csv\n",
    "import matplotlib.pyplot as plt\n",
    "\n",
    "input_file = 'heights.csv'\n",
    "\n",
    "with open(input_file, 'r') as ht_data:\n",
    "    heights = list(csv.reader(ht_data))\n",
    "\n",
    "\n",
    "    \n",
    "    \n",
    "    "
   ]
  },
  {
   "cell_type": "code",
   "execution_count": 3,
   "metadata": {},
   "outputs": [
    {
     "name": "stderr",
     "output_type": "stream",
     "text": [
      "C:\\Users\\Laptop\\Anaconda3\\lib\\site-packages\\pandas\\core\\generic.py:2127: UserWarning: The spaces in these column names will not be changed. In pandas versions < 0.14, spaces were converted to underscores.\n",
      "  dtype=dtype)\n"
     ]
    }
   ],
   "source": [
    "import sqlite3\n",
    "import pandas as pd\n",
    "import matplotlib.pyplot as plt\n",
    "\n",
    "cn1 = sqlite3.connect(\"pythonproject.db\")\n",
    "df1 = pd.read_csv(\"heights.csv\" , header='infer')\n",
    "df1.to_sql(\"ht\", cn1, if_exists = \"replace\")\n"
   ]
  },
  {
   "cell_type": "code",
   "execution_count": 4,
   "metadata": {},
   "outputs": [
    {
     "data": {
      "text/html": [
       "<div>\n",
       "<style scoped>\n",
       "    .dataframe tbody tr th:only-of-type {\n",
       "        vertical-align: middle;\n",
       "    }\n",
       "\n",
       "    .dataframe tbody tr th {\n",
       "        vertical-align: top;\n",
       "    }\n",
       "\n",
       "    .dataframe thead th {\n",
       "        text-align: right;\n",
       "    }\n",
       "</style>\n",
       "<table border=\"1\" class=\"dataframe\">\n",
       "  <thead>\n",
       "    <tr style=\"text-align: right;\">\n",
       "      <th></th>\n",
       "      <th>ID</th>\n",
       "      <th>Country</th>\n",
       "      <th>Height (m)</th>\n",
       "      <th>Continent</th>\n",
       "      <th>Developed</th>\n",
       "    </tr>\n",
       "  </thead>\n",
       "  <tbody>\n",
       "    <tr>\n",
       "      <th>0</th>\n",
       "      <td>0</td>\n",
       "      <td>Netherlands</td>\n",
       "      <td>1.8380</td>\n",
       "      <td>Europe</td>\n",
       "      <td>y</td>\n",
       "    </tr>\n",
       "    <tr>\n",
       "      <th>1</th>\n",
       "      <td>1</td>\n",
       "      <td>Montenegro</td>\n",
       "      <td>1.8320</td>\n",
       "      <td>Europe</td>\n",
       "      <td>n</td>\n",
       "    </tr>\n",
       "    <tr>\n",
       "      <th>2</th>\n",
       "      <td>2</td>\n",
       "      <td>Denmark</td>\n",
       "      <td>1.8260</td>\n",
       "      <td>Europe</td>\n",
       "      <td>y</td>\n",
       "    </tr>\n",
       "    <tr>\n",
       "      <th>3</th>\n",
       "      <td>3</td>\n",
       "      <td>Norway</td>\n",
       "      <td>1.8240</td>\n",
       "      <td>Europe</td>\n",
       "      <td>y</td>\n",
       "    </tr>\n",
       "    <tr>\n",
       "      <th>4</th>\n",
       "      <td>4</td>\n",
       "      <td>Serbia</td>\n",
       "      <td>1.8200</td>\n",
       "      <td>Europe</td>\n",
       "      <td>n</td>\n",
       "    </tr>\n",
       "    <tr>\n",
       "      <th>5</th>\n",
       "      <td>5</td>\n",
       "      <td>Germany</td>\n",
       "      <td>1.8100</td>\n",
       "      <td>Europe</td>\n",
       "      <td>y</td>\n",
       "    </tr>\n",
       "    <tr>\n",
       "      <th>6</th>\n",
       "      <td>6</td>\n",
       "      <td>Croatia</td>\n",
       "      <td>1.8050</td>\n",
       "      <td>Europe</td>\n",
       "      <td>n</td>\n",
       "    </tr>\n",
       "    <tr>\n",
       "      <th>7</th>\n",
       "      <td>7</td>\n",
       "      <td>Czech Republic</td>\n",
       "      <td>1.8031</td>\n",
       "      <td>Europe</td>\n",
       "      <td>y</td>\n",
       "    </tr>\n",
       "    <tr>\n",
       "      <th>8</th>\n",
       "      <td>8</td>\n",
       "      <td>Slovenia</td>\n",
       "      <td>1.8030</td>\n",
       "      <td>Europe</td>\n",
       "      <td>y</td>\n",
       "    </tr>\n",
       "    <tr>\n",
       "      <th>9</th>\n",
       "      <td>9</td>\n",
       "      <td>Luxembourg</td>\n",
       "      <td>1.7990</td>\n",
       "      <td>Europe</td>\n",
       "      <td>y</td>\n",
       "    </tr>\n",
       "    <tr>\n",
       "      <th>10</th>\n",
       "      <td>10</td>\n",
       "      <td>Indonesia</td>\n",
       "      <td>1.5800</td>\n",
       "      <td>Asia</td>\n",
       "      <td>y</td>\n",
       "    </tr>\n",
       "    <tr>\n",
       "      <th>11</th>\n",
       "      <td>11</td>\n",
       "      <td>Bolivia</td>\n",
       "      <td>1.6000</td>\n",
       "      <td>South America</td>\n",
       "      <td>n</td>\n",
       "    </tr>\n",
       "    <tr>\n",
       "      <th>12</th>\n",
       "      <td>12</td>\n",
       "      <td>Philippines</td>\n",
       "      <td>1.6190</td>\n",
       "      <td>Asia</td>\n",
       "      <td>n</td>\n",
       "    </tr>\n",
       "    <tr>\n",
       "      <th>13</th>\n",
       "      <td>13</td>\n",
       "      <td>Vietnam</td>\n",
       "      <td>1.6210</td>\n",
       "      <td>Asia</td>\n",
       "      <td>n</td>\n",
       "    </tr>\n",
       "    <tr>\n",
       "      <th>14</th>\n",
       "      <td>14</td>\n",
       "      <td>Cambodia</td>\n",
       "      <td>1.6250</td>\n",
       "      <td>Asia</td>\n",
       "      <td>n</td>\n",
       "    </tr>\n",
       "    <tr>\n",
       "      <th>15</th>\n",
       "      <td>15</td>\n",
       "      <td>Nepal</td>\n",
       "      <td>1.6300</td>\n",
       "      <td>Asia</td>\n",
       "      <td>n</td>\n",
       "    </tr>\n",
       "    <tr>\n",
       "      <th>16</th>\n",
       "      <td>16</td>\n",
       "      <td>Ecuador</td>\n",
       "      <td>1.6350</td>\n",
       "      <td>South America</td>\n",
       "      <td>n</td>\n",
       "    </tr>\n",
       "    <tr>\n",
       "      <th>17</th>\n",
       "      <td>17</td>\n",
       "      <td>Sri Lanka</td>\n",
       "      <td>1.6360</td>\n",
       "      <td>Asia</td>\n",
       "      <td>n</td>\n",
       "    </tr>\n",
       "    <tr>\n",
       "      <th>18</th>\n",
       "      <td>18</td>\n",
       "      <td>Nigeria</td>\n",
       "      <td>1.6380</td>\n",
       "      <td>Africa</td>\n",
       "      <td>n</td>\n",
       "    </tr>\n",
       "    <tr>\n",
       "      <th>19</th>\n",
       "      <td>19</td>\n",
       "      <td>Peru</td>\n",
       "      <td>1.6400</td>\n",
       "      <td>South America</td>\n",
       "      <td>n</td>\n",
       "    </tr>\n",
       "  </tbody>\n",
       "</table>\n",
       "</div>"
      ],
      "text/plain": [
       "    ID         Country  Height (m)      Continent Developed\n",
       "0    0     Netherlands      1.8380        Europe          y\n",
       "1    1      Montenegro      1.8320        Europe          n\n",
       "2    2         Denmark      1.8260        Europe          y\n",
       "3    3          Norway      1.8240        Europe          y\n",
       "4    4          Serbia      1.8200        Europe          n\n",
       "5    5         Germany      1.8100        Europe          y\n",
       "6    6         Croatia      1.8050        Europe          n\n",
       "7    7  Czech Republic      1.8031        Europe          y\n",
       "8    8        Slovenia      1.8030        Europe          y\n",
       "9    9      Luxembourg      1.7990        Europe          y\n",
       "10  10       Indonesia      1.5800           Asia         y\n",
       "11  11         Bolivia      1.6000  South America         n\n",
       "12  12     Philippines      1.6190           Asia         n\n",
       "13  13         Vietnam      1.6210           Asia         n\n",
       "14  14        Cambodia      1.6250           Asia         n\n",
       "15  15           Nepal      1.6300           Asia         n\n",
       "16  16         Ecuador      1.6350  South America         n\n",
       "17  17       Sri Lanka      1.6360           Asia         n\n",
       "18  18         Nigeria      1.6380         Africa         n\n",
       "19  19            Peru      1.6400  South America         n"
      ]
     },
     "execution_count": 4,
     "metadata": {},
     "output_type": "execute_result"
    }
   ],
   "source": [
    "df1"
   ]
  },
  {
   "cell_type": "code",
   "execution_count": 5,
   "metadata": {},
   "outputs": [],
   "source": [
    "df_10 = pd.read_sql_query(\"SELECT Developed, count(*) FROM ht WHERE ID < 10 GROUP BY Developed\", sqlite3.connect(\"pythonproject.db\"))"
   ]
  },
  {
   "cell_type": "code",
   "execution_count": 6,
   "metadata": {},
   "outputs": [
    {
     "data": {
      "text/plain": [
       "Text(0,0.5,'Count')"
      ]
     },
     "execution_count": 6,
     "metadata": {},
     "output_type": "execute_result"
    },
    {
     "data": {
      "image/png": "[encoded data removed]",
      "text/plain": [
       "<Figure size 432x288 with 1 Axes>"
      ]
     },
     "metadata": {},
     "output_type": "display_data"
    }
   ],
   "source": [
    "df_in = df_10.set_index('Developed')\n",
    "ax = df_in.plot.bar(stacked=True, title= \"World's Tallest Countries\")\n",
    "ax.set_xlabel(\"Developed\",fontsize=12)\n",
    "ax.set_ylabel(\"Count\",fontsize=12)"
   ]
  },
  {
   "cell_type": "code",
   "execution_count": 7,
   "metadata": {},
   "outputs": [],
   "source": [
    "df = pd.read_sql_query(\"SELECT Developed, count(*) FROM ht WHERE ID >= 10 GROUP BY Developed\", sqlite3.connect(\"pythonproject.db\"))"
   ]
  },
  {
   "cell_type": "code",
   "execution_count": 8,
   "metadata": {},
   "outputs": [
    {
     "data": {
      "text/plain": [
       "Text(0,0.5,'Count')"
      ]
     },
     "execution_count": 8,
     "metadata": {},
     "output_type": "execute_result"
    },
    {
     "data": {
      "image/png": "[encoded data removed]",
      "text/plain": [
       "<Figure size 432x288 with 1 Axes>"
      ]
     },
     "metadata": {},
     "output_type": "display_data"
    }
   ],
   "source": [
    "df_in = df.set_index('Developed')\n",
    "ax = df_in.plot.bar(stacked=True, title=\"World's Shortest Countries\")\n",
    "ax.set_xlabel(\"Developed\",fontsize=12)\n",
    "ax.set_ylabel(\"Count\",fontsize=12)"
   ]
  },
  {
   "cell_type": "code",
   "execution_count": null,
   "metadata": {},
   "outputs": [],
   "source": []
  }
 ],
 "metadata": {
  "kernelspec": {
   "display_name": "Python 3",
   "language": "python",
   "name": "python3"
  },
  "language_info": {
   "codemirror_mode": {
    "name": "ipython",
    "version": 3
   },
   "file_extension": ".py",
   "mimetype": "text/x-python",
   "name": "python",
   "nbconvert_exporter": "python",
   "pygments_lexer": "ipython3",
   "version": "3.6.5"
  }
 },
 "nbformat": 4,
 "nbformat_minor": 2
}
